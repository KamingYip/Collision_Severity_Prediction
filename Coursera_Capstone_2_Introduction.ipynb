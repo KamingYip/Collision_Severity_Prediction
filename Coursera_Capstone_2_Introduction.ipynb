{
 "cells": [
  {
   "cell_type": "markdown",
   "metadata": {},
   "source": [
    "<a href=\"https://www.bigdatauniversity.com\"><img src=\"Cognitive-Class-Logo.png\" width=\"400\" align=\"center\" /></a>"
   ]
  },
  {
   "cell_type": "markdown",
   "metadata": {},
   "source": [
    "<h1 align=\"center\"><font size=\"5\">Coursera Capstone</font></h1>\n",
    "<h4 align=\"center\"><font size=\"4\">Author: <a href=\"https://www.linkedin.com/in/kaming-yip-22b03a1a0/\">Kaming Yip</a>&emsp;&emsp;Date: Aug. 24, 2020</font></h4>"
   ]
  },
  {
   "cell_type": "markdown",
   "metadata": {},
   "source": [
    "<h1 align=\"left\"><font size=\"3\">1. Introduction/Business Problem</font></h1>\n",
    "\n",
    "Say you are driving to another city for work or to visit some friends, or even simply on the way to your vacation. If there was an accident happened on the way, the traffic would be terrible and everyone would be stuck in that slow lane. Cars already stuck in traffic have no choice but to wait no matter how long it takes to pass the accident scene; however, incoming cars or drivers would have no idea what happens at the front of the lane but to also join the lane. This could take couples of hours to completely clean the field and go back to normal.\n",
    "\n",
    "However, if there is something in place that could warn you, given the weather and the road conditions, the possibility of you getting into a car accident and how severe it would be, it would be much better for you to drive more carefully or even change your travel if you are able to. It can be imagined that, with these useful prompts, tens of thousands of drivers can be saved from the unexpected or undesirable accidents and better control their travel plans.\n",
    "\n",
    "Therefore, in this project, we will be working on a case study which is to predict the severity of an accident based on the attributes such as weather, road, and light conditions, so that we can provide suggestions for drivers based on the environment to maintain safe and efficient driving.\n"
   ]
  },
  {
   "cell_type": "code",
   "execution_count": null,
   "metadata": {},
   "outputs": [],
   "source": []
  }
 ],
 "metadata": {
  "kernelspec": {
   "display_name": "Python 3",
   "language": "python",
   "name": "python3"
  },
  "language_info": {
   "codemirror_mode": {
    "name": "ipython",
    "version": 3
   },
   "file_extension": ".py",
   "mimetype": "text/x-python",
   "name": "python",
   "nbconvert_exporter": "python",
   "pygments_lexer": "ipython3",
   "version": "3.7.3"
  }
 },
 "nbformat": 4,
 "nbformat_minor": 2
}
