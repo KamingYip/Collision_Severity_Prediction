{
 "cells": [
  {
   "cell_type": "markdown",
   "metadata": {},
   "source": [
    "<a href=\"https://www.bigdatauniversity.com\"><img src=\"https://ibm.box.com/shared/static/cw2c7r3o20w9zn8gkecaeyjhgw3xdgbj.png\" width=\"400\" align=\"center\" /></a>\n",
    "\n",
    "<h1 align=\"center\"><font size=\"5\">Coursera Capstone</font></h1>\n",
    "<h4 align=\"center\"><font size=\"4\">Author: <a href=\"https://www.linkedin.com/in/kaming-yip-22b03a1a0/\">Kaming Yip</a>&emsp;&emsp;Date: Aug. 22, 2020</font></h4>\n",
    "\n"
   ]
  },
  {
   "cell_type": "markdown",
   "metadata": {},
   "source": [
    "This notebook will be mainly used for the capstone project which aims to apply machine learning algorithms to predict accident \"severity\" based on a dataset provided by <a href=\"https://www.coursera.org/professional-certificates/ibm-data-science\">IBM Data Science course</a>.\n",
    "\n",
    "This is the Phase 1 out of 3 of the notebook for the project.\n",
    "\n",
    "In this notebook, we will:\n",
    "1. Write some markdown to explain that this notebook will be mainly used for the capstone project.\n",
    "2. Import the <i>pandas</i> library as pd.\n",
    "3. Import the <i>Numpy</i> library as np.\n",
    "4. Print the following the statement: Hello Capstone Project Course!\n",
    "<hr>\n"
   ]
  },
  {
   "cell_type": "code",
   "execution_count": 1,
   "metadata": {},
   "outputs": [],
   "source": [
    "import pandas as pd\n",
    "import numpy as np"
   ]
  },
  {
   "cell_type": "code",
   "execution_count": 2,
   "metadata": {},
   "outputs": [
    {
     "name": "stdout",
     "output_type": "stream",
     "text": [
      "Hello Capstone Project Course!\n"
     ]
    }
   ],
   "source": [
    "print(\"Hello Capstone Project Course!\")"
   ]
  },
  {
   "cell_type": "code",
   "execution_count": null,
   "metadata": {},
   "outputs": [],
   "source": []
  }
 ],
 "metadata": {
  "kernelspec": {
   "display_name": "Python 3",
   "language": "python",
   "name": "python3"
  },
  "language_info": {
   "codemirror_mode": {
    "name": "ipython",
    "version": 3
   },
   "file_extension": ".py",
   "mimetype": "text/x-python",
   "name": "python",
   "nbconvert_exporter": "python",
   "pygments_lexer": "ipython3",
   "version": "3.7.3"
  }
 },
 "nbformat": 4,
 "nbformat_minor": 2
}
